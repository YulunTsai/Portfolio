{
 "cells": [
  {
   "cell_type": "code",
   "execution_count": 160,
   "id": "816068b2",
   "metadata": {},
   "outputs": [],
   "source": [
    "import pandas as pd\n",
    "import numpy as np\n",
    "import matplotlib.pyplot as plt\n",
    "import matplotlib.lines as mlines\n",
    "import seaborn as sb"
   ]
  },
  {
   "cell_type": "code",
   "execution_count": 161,
   "id": "184a6f91",
   "metadata": {
    "scrolled": true
   },
   "outputs": [],
   "source": [
    "data = pd.read_csv(\"application_train.csv\")"
   ]
  },
  {
   "cell_type": "code",
   "execution_count": 162,
   "id": "eeb8dae0",
   "metadata": {
    "scrolled": false
   },
   "outputs": [
    {
     "data": {
      "text/html": [
       "<div>\n",
       "<style scoped>\n",
       "    .dataframe tbody tr th:only-of-type {\n",
       "        vertical-align: middle;\n",
       "    }\n",
       "\n",
       "    .dataframe tbody tr th {\n",
       "        vertical-align: top;\n",
       "    }\n",
       "\n",
       "    .dataframe thead th {\n",
       "        text-align: right;\n",
       "    }\n",
       "</style>\n",
       "<table border=\"1\" class=\"dataframe\">\n",
       "  <thead>\n",
       "    <tr style=\"text-align: right;\">\n",
       "      <th></th>\n",
       "      <th>SK_ID_CURR</th>\n",
       "      <th>Unnamed: 1</th>\n",
       "      <th>NAME_CONTRACT_TYPE</th>\n",
       "      <th>CODE_GENDER</th>\n",
       "      <th>FLAG_OWN_CAR</th>\n",
       "      <th>FLAG_OWN_REALTY</th>\n",
       "      <th>CNT_CHILDREN</th>\n",
       "      <th>AMT_INCOME_TOTAL</th>\n",
       "      <th>AMT_CREDIT</th>\n",
       "      <th>AMT_ANNUITY</th>\n",
       "      <th>...</th>\n",
       "      <th>OCCUPATION_TYPE</th>\n",
       "      <th>CNT_FAM_MEMBERS</th>\n",
       "      <th>REG_REGION_NOT_LIVE_REGION</th>\n",
       "      <th>REG_REGION_NOT_WORK_REGION</th>\n",
       "      <th>LIVE_REGION_NOT_WORK_REGION</th>\n",
       "      <th>REG_CITY_NOT_LIVE_CITY</th>\n",
       "      <th>REG_CITY_NOT_WORK_CITY</th>\n",
       "      <th>LIVE_CITY_NOT_WORK_CITY</th>\n",
       "      <th>ORGANIZATION_TYPE</th>\n",
       "      <th>TARGET</th>\n",
       "    </tr>\n",
       "  </thead>\n",
       "  <tbody>\n",
       "    <tr>\n",
       "      <th>0</th>\n",
       "      <td>100002</td>\n",
       "      <td>NaN</td>\n",
       "      <td>Cash loans</td>\n",
       "      <td>M</td>\n",
       "      <td>N</td>\n",
       "      <td>Y</td>\n",
       "      <td>0</td>\n",
       "      <td>202500.0</td>\n",
       "      <td>406597.5</td>\n",
       "      <td>24700.5</td>\n",
       "      <td>...</td>\n",
       "      <td>Laborers</td>\n",
       "      <td>1.0</td>\n",
       "      <td>0</td>\n",
       "      <td>0</td>\n",
       "      <td>0</td>\n",
       "      <td>0</td>\n",
       "      <td>0</td>\n",
       "      <td>0</td>\n",
       "      <td>Business Entity Type 3</td>\n",
       "      <td>1</td>\n",
       "    </tr>\n",
       "    <tr>\n",
       "      <th>1</th>\n",
       "      <td>100003</td>\n",
       "      <td>NaN</td>\n",
       "      <td>Cash loans</td>\n",
       "      <td>F</td>\n",
       "      <td>N</td>\n",
       "      <td>N</td>\n",
       "      <td>0</td>\n",
       "      <td>270000.0</td>\n",
       "      <td>1293502.5</td>\n",
       "      <td>35698.5</td>\n",
       "      <td>...</td>\n",
       "      <td>Core staff</td>\n",
       "      <td>2.0</td>\n",
       "      <td>0</td>\n",
       "      <td>0</td>\n",
       "      <td>0</td>\n",
       "      <td>0</td>\n",
       "      <td>0</td>\n",
       "      <td>0</td>\n",
       "      <td>School</td>\n",
       "      <td>0</td>\n",
       "    </tr>\n",
       "    <tr>\n",
       "      <th>2</th>\n",
       "      <td>100004</td>\n",
       "      <td>NaN</td>\n",
       "      <td>Revolving loans</td>\n",
       "      <td>M</td>\n",
       "      <td>Y</td>\n",
       "      <td>Y</td>\n",
       "      <td>0</td>\n",
       "      <td>67500.0</td>\n",
       "      <td>135000.0</td>\n",
       "      <td>6750.0</td>\n",
       "      <td>...</td>\n",
       "      <td>Laborers</td>\n",
       "      <td>1.0</td>\n",
       "      <td>0</td>\n",
       "      <td>0</td>\n",
       "      <td>0</td>\n",
       "      <td>0</td>\n",
       "      <td>0</td>\n",
       "      <td>0</td>\n",
       "      <td>Government</td>\n",
       "      <td>0</td>\n",
       "    </tr>\n",
       "    <tr>\n",
       "      <th>3</th>\n",
       "      <td>100006</td>\n",
       "      <td>NaN</td>\n",
       "      <td>Cash loans</td>\n",
       "      <td>F</td>\n",
       "      <td>N</td>\n",
       "      <td>Y</td>\n",
       "      <td>0</td>\n",
       "      <td>135000.0</td>\n",
       "      <td>312682.5</td>\n",
       "      <td>29686.5</td>\n",
       "      <td>...</td>\n",
       "      <td>Laborers</td>\n",
       "      <td>2.0</td>\n",
       "      <td>0</td>\n",
       "      <td>0</td>\n",
       "      <td>0</td>\n",
       "      <td>0</td>\n",
       "      <td>0</td>\n",
       "      <td>0</td>\n",
       "      <td>Business Entity Type 3</td>\n",
       "      <td>0</td>\n",
       "    </tr>\n",
       "    <tr>\n",
       "      <th>4</th>\n",
       "      <td>100007</td>\n",
       "      <td>NaN</td>\n",
       "      <td>Cash loans</td>\n",
       "      <td>M</td>\n",
       "      <td>N</td>\n",
       "      <td>Y</td>\n",
       "      <td>0</td>\n",
       "      <td>121500.0</td>\n",
       "      <td>513000.0</td>\n",
       "      <td>21865.5</td>\n",
       "      <td>...</td>\n",
       "      <td>Core staff</td>\n",
       "      <td>1.0</td>\n",
       "      <td>0</td>\n",
       "      <td>0</td>\n",
       "      <td>0</td>\n",
       "      <td>0</td>\n",
       "      <td>1</td>\n",
       "      <td>1</td>\n",
       "      <td>Religion</td>\n",
       "      <td>0</td>\n",
       "    </tr>\n",
       "  </tbody>\n",
       "</table>\n",
       "<p>5 rows × 37 columns</p>\n",
       "</div>"
      ],
      "text/plain": [
       "   SK_ID_CURR  Unnamed: 1 NAME_CONTRACT_TYPE CODE_GENDER FLAG_OWN_CAR  \\\n",
       "0      100002         NaN         Cash loans           M            N   \n",
       "1      100003         NaN         Cash loans           F            N   \n",
       "2      100004         NaN    Revolving loans           M            Y   \n",
       "3      100006         NaN         Cash loans           F            N   \n",
       "4      100007         NaN         Cash loans           M            N   \n",
       "\n",
       "  FLAG_OWN_REALTY  CNT_CHILDREN  AMT_INCOME_TOTAL  AMT_CREDIT  AMT_ANNUITY  \\\n",
       "0               Y             0          202500.0    406597.5      24700.5   \n",
       "1               N             0          270000.0   1293502.5      35698.5   \n",
       "2               Y             0           67500.0    135000.0       6750.0   \n",
       "3               Y             0          135000.0    312682.5      29686.5   \n",
       "4               Y             0          121500.0    513000.0      21865.5   \n",
       "\n",
       "   ...  OCCUPATION_TYPE CNT_FAM_MEMBERS REG_REGION_NOT_LIVE_REGION  \\\n",
       "0  ...         Laborers             1.0                          0   \n",
       "1  ...       Core staff             2.0                          0   \n",
       "2  ...         Laborers             1.0                          0   \n",
       "3  ...         Laborers             2.0                          0   \n",
       "4  ...       Core staff             1.0                          0   \n",
       "\n",
       "  REG_REGION_NOT_WORK_REGION LIVE_REGION_NOT_WORK_REGION  \\\n",
       "0                          0                           0   \n",
       "1                          0                           0   \n",
       "2                          0                           0   \n",
       "3                          0                           0   \n",
       "4                          0                           0   \n",
       "\n",
       "  REG_CITY_NOT_LIVE_CITY  REG_CITY_NOT_WORK_CITY  LIVE_CITY_NOT_WORK_CITY  \\\n",
       "0                      0                       0                        0   \n",
       "1                      0                       0                        0   \n",
       "2                      0                       0                        0   \n",
       "3                      0                       0                        0   \n",
       "4                      0                       1                        1   \n",
       "\n",
       "        ORGANIZATION_TYPE  TARGET  \n",
       "0  Business Entity Type 3       1  \n",
       "1                  School       0  \n",
       "2              Government       0  \n",
       "3  Business Entity Type 3       0  \n",
       "4                Religion       0  \n",
       "\n",
       "[5 rows x 37 columns]"
      ]
     },
     "execution_count": 162,
     "metadata": {},
     "output_type": "execute_result"
    }
   ],
   "source": [
    "data.head()"
   ]
  },
  {
   "cell_type": "code",
   "execution_count": 163,
   "id": "aa17fa85",
   "metadata": {
    "scrolled": true
   },
   "outputs": [
    {
     "name": "stdout",
     "output_type": "stream",
     "text": [
      "<class 'pandas.core.frame.DataFrame'>\n",
      "RangeIndex: 214079 entries, 0 to 214078\n",
      "Data columns (total 37 columns):\n",
      " #   Column                       Non-Null Count   Dtype  \n",
      "---  ------                       --------------   -----  \n",
      " 0   SK_ID_CURR                   214079 non-null  int64  \n",
      " 1   Unnamed: 1                   0 non-null       float64\n",
      " 2   NAME_CONTRACT_TYPE           214079 non-null  object \n",
      " 3   CODE_GENDER                  214079 non-null  object \n",
      " 4   FLAG_OWN_CAR                 214079 non-null  object \n",
      " 5   FLAG_OWN_REALTY              214079 non-null  object \n",
      " 6   CNT_CHILDREN                 214079 non-null  int64  \n",
      " 7   AMT_INCOME_TOTAL             214079 non-null  float64\n",
      " 8   AMT_CREDIT                   214079 non-null  float64\n",
      " 9   AMT_ANNUITY                  214070 non-null  float64\n",
      " 10  AMT_GOODS_PRICE              213906 non-null  float64\n",
      " 11  NAME_TYPE_SUITE              213200 non-null  object \n",
      " 12  NAME_INCOME_TYPE             214079 non-null  object \n",
      " 13  NAME_EDUCATION_TYPE          214079 non-null  object \n",
      " 14  NAME_FAMILY_STATUS           214079 non-null  object \n",
      " 15  NAME_HOUSING_TYPE            214079 non-null  object \n",
      " 16  DAYS_BIRTH                   214079 non-null  int64  \n",
      " 17  DAYS_EMPLOYED                214079 non-null  int64  \n",
      " 18  DAYS_REGISTRATION            214079 non-null  int64  \n",
      " 19  DAYS_ID_PUBLISH              214079 non-null  int64  \n",
      " 20  OWN_CAR_AGE                  72753 non-null   float64\n",
      " 21  FLAG_MOBIL                   214079 non-null  int64  \n",
      " 22  FLAG_EMP_PHONE               214079 non-null  int64  \n",
      " 23  FLAG_WORK_PHONE              214079 non-null  int64  \n",
      " 24  FLAG_CONT_MOBILE             214079 non-null  int64  \n",
      " 25  FLAG_PHONE                   214079 non-null  int64  \n",
      " 26  FLAG_EMAIL                   214079 non-null  int64  \n",
      " 27  OCCUPATION_TYPE              146807 non-null  object \n",
      " 28  CNT_FAM_MEMBERS              214077 non-null  float64\n",
      " 29  REG_REGION_NOT_LIVE_REGION   214079 non-null  int64  \n",
      " 30  REG_REGION_NOT_WORK_REGION   214079 non-null  int64  \n",
      " 31  LIVE_REGION_NOT_WORK_REGION  214079 non-null  int64  \n",
      " 32  REG_CITY_NOT_LIVE_CITY       214079 non-null  int64  \n",
      " 33  REG_CITY_NOT_WORK_CITY       214079 non-null  int64  \n",
      " 34  LIVE_CITY_NOT_WORK_CITY      214079 non-null  int64  \n",
      " 35  ORGANIZATION_TYPE            214079 non-null  object \n",
      " 36  TARGET                       214079 non-null  int64  \n",
      "dtypes: float64(7), int64(19), object(11)\n",
      "memory usage: 60.4+ MB\n"
     ]
    }
   ],
   "source": [
    "data.info()"
   ]
  },
  {
   "cell_type": "markdown",
   "id": "df715493",
   "metadata": {},
   "source": [
    "# Data Cleaning"
   ]
  },
  {
   "cell_type": "markdown",
   "id": "c0eb3b2f",
   "metadata": {},
   "source": [
    "'Unnamed:1'is a null data column, which need to be deleted for better analysis"
   ]
  },
  {
   "cell_type": "code",
   "execution_count": 164,
   "id": "7ecb9ea9",
   "metadata": {},
   "outputs": [],
   "source": [
    "del data[\"Unnamed: 1\"]"
   ]
  },
  {
   "cell_type": "markdown",
   "id": "b346bb80",
   "metadata": {},
   "source": [
    "Column'sk_id_curr' is a counter column and does not have any value, so I deleted it."
   ]
  },
  {
   "cell_type": "code",
   "execution_count": 165,
   "id": "17b38493",
   "metadata": {},
   "outputs": [],
   "source": [
    "del data[\"SK_ID_CURR\"]"
   ]
  },
  {
   "cell_type": "code",
   "execution_count": 166,
   "id": "320ad8ef",
   "metadata": {},
   "outputs": [],
   "source": [
    "Q1 = data['OWN_CAR_AGE'].quantile(0.25)\n",
    "Q3 = data['OWN_CAR_AGE'].quantile(0.75)\n",
    "IQR = Q3 - Q1\n",
    "lower_bound = Q1 - 1.5 * IQR\n",
    "upper_bound = Q3 + 1.5 * IQR\n",
    "\n",
    "data = data[(data['OWN_CAR_AGE'] >= lower_bound) & (data['OWN_CAR_AGE'] <= upper_bound)]"
   ]
  },
  {
   "cell_type": "markdown",
   "id": "fcfbcbb5",
   "metadata": {},
   "source": [
    "The multiple columns have missing values. Using median value of column to fill in."
   ]
  },
  {
   "cell_type": "code",
   "execution_count": 167,
   "id": "9d3a4c4d",
   "metadata": {
    "scrolled": true
   },
   "outputs": [],
   "source": [
    "med = data[\"AMT_ANNUITY\"].median()\n",
    "data[\"AMT_ANNUITY\"].fillna(med, inplace=True)"
   ]
  },
  {
   "cell_type": "code",
   "execution_count": 168,
   "id": "f4985386",
   "metadata": {},
   "outputs": [],
   "source": [
    "med = data[\"AMT_GOODS_PRICE\"].median()\n",
    "data[\"AMT_GOODS_PRICE\"].fillna(med, inplace=True)"
   ]
  },
  {
   "cell_type": "code",
   "execution_count": 169,
   "id": "0a62e341",
   "metadata": {},
   "outputs": [],
   "source": [
    "med = data[\"CNT_FAM_MEMBERS\"].median()\n",
    "data[\"CNT_FAM_MEMBERS\"].fillna(med, inplace=True)"
   ]
  },
  {
   "cell_type": "markdown",
   "id": "54ceebb7",
   "metadata": {},
   "source": [
    "Use mode() to fill in the categorical data"
   ]
  },
  {
   "cell_type": "code",
   "execution_count": 170,
   "id": "c0b25d64",
   "metadata": {
    "scrolled": true
   },
   "outputs": [],
   "source": [
    "data['NAME_TYPE_SUITE'].fillna(data['NAME_TYPE_SUITE'].mode()[0], inplace=True)"
   ]
  },
  {
   "cell_type": "code",
   "execution_count": 171,
   "id": "b753e296",
   "metadata": {},
   "outputs": [],
   "source": [
    "data['OCCUPATION_TYPE'].fillna(data['OCCUPATION_TYPE'].mode()[0], inplace=True)"
   ]
  },
  {
   "cell_type": "code",
   "execution_count": 172,
   "id": "46f03746",
   "metadata": {
    "scrolled": true
   },
   "outputs": [
    {
     "name": "stdout",
     "output_type": "stream",
     "text": [
      "<class 'pandas.core.frame.DataFrame'>\n",
      "Index: 69301 entries, 2 to 214078\n",
      "Data columns (total 35 columns):\n",
      " #   Column                       Non-Null Count  Dtype  \n",
      "---  ------                       --------------  -----  \n",
      " 0   NAME_CONTRACT_TYPE           69301 non-null  object \n",
      " 1   CODE_GENDER                  69301 non-null  object \n",
      " 2   FLAG_OWN_CAR                 69301 non-null  object \n",
      " 3   FLAG_OWN_REALTY              69301 non-null  object \n",
      " 4   CNT_CHILDREN                 69301 non-null  int64  \n",
      " 5   AMT_INCOME_TOTAL             69301 non-null  float64\n",
      " 6   AMT_CREDIT                   69301 non-null  float64\n",
      " 7   AMT_ANNUITY                  69301 non-null  float64\n",
      " 8   AMT_GOODS_PRICE              69301 non-null  float64\n",
      " 9   NAME_TYPE_SUITE              69301 non-null  object \n",
      " 10  NAME_INCOME_TYPE             69301 non-null  object \n",
      " 11  NAME_EDUCATION_TYPE          69301 non-null  object \n",
      " 12  NAME_FAMILY_STATUS           69301 non-null  object \n",
      " 13  NAME_HOUSING_TYPE            69301 non-null  object \n",
      " 14  DAYS_BIRTH                   69301 non-null  int64  \n",
      " 15  DAYS_EMPLOYED                69301 non-null  int64  \n",
      " 16  DAYS_REGISTRATION            69301 non-null  int64  \n",
      " 17  DAYS_ID_PUBLISH              69301 non-null  int64  \n",
      " 18  OWN_CAR_AGE                  69301 non-null  float64\n",
      " 19  FLAG_MOBIL                   69301 non-null  int64  \n",
      " 20  FLAG_EMP_PHONE               69301 non-null  int64  \n",
      " 21  FLAG_WORK_PHONE              69301 non-null  int64  \n",
      " 22  FLAG_CONT_MOBILE             69301 non-null  int64  \n",
      " 23  FLAG_PHONE                   69301 non-null  int64  \n",
      " 24  FLAG_EMAIL                   69301 non-null  int64  \n",
      " 25  OCCUPATION_TYPE              69301 non-null  object \n",
      " 26  CNT_FAM_MEMBERS              69301 non-null  float64\n",
      " 27  REG_REGION_NOT_LIVE_REGION   69301 non-null  int64  \n",
      " 28  REG_REGION_NOT_WORK_REGION   69301 non-null  int64  \n",
      " 29  LIVE_REGION_NOT_WORK_REGION  69301 non-null  int64  \n",
      " 30  REG_CITY_NOT_LIVE_CITY       69301 non-null  int64  \n",
      " 31  REG_CITY_NOT_WORK_CITY       69301 non-null  int64  \n",
      " 32  LIVE_CITY_NOT_WORK_CITY      69301 non-null  int64  \n",
      " 33  ORGANIZATION_TYPE            69301 non-null  object \n",
      " 34  TARGET                       69301 non-null  int64  \n",
      "dtypes: float64(6), int64(18), object(11)\n",
      "memory usage: 19.0+ MB\n"
     ]
    }
   ],
   "source": [
    "data.info()"
   ]
  },
  {
   "cell_type": "markdown",
   "id": "cffe2b39",
   "metadata": {},
   "source": [
    "# Find the Outliners and Delete"
   ]
  },
  {
   "cell_type": "markdown",
   "id": "241d61d6",
   "metadata": {},
   "source": [
    "Make a subset to deal with numerical data's outliners"
   ]
  },
  {
   "cell_type": "code",
   "execution_count": 173,
   "id": "ae904713",
   "metadata": {
    "scrolled": true
   },
   "outputs": [
    {
     "name": "stdout",
     "output_type": "stream",
     "text": [
      "<class 'pandas.core.frame.DataFrame'>\n",
      "Index: 69301 entries, 2 to 214078\n",
      "Data columns (total 24 columns):\n",
      " #   Column                       Non-Null Count  Dtype  \n",
      "---  ------                       --------------  -----  \n",
      " 0   CNT_CHILDREN                 69301 non-null  int64  \n",
      " 1   AMT_INCOME_TOTAL             69301 non-null  float64\n",
      " 2   AMT_CREDIT                   69301 non-null  float64\n",
      " 3   AMT_ANNUITY                  69301 non-null  float64\n",
      " 4   AMT_GOODS_PRICE              69301 non-null  float64\n",
      " 5   DAYS_BIRTH                   69301 non-null  int64  \n",
      " 6   DAYS_EMPLOYED                69301 non-null  int64  \n",
      " 7   DAYS_REGISTRATION            69301 non-null  int64  \n",
      " 8   DAYS_ID_PUBLISH              69301 non-null  int64  \n",
      " 9   OWN_CAR_AGE                  69301 non-null  float64\n",
      " 10  FLAG_MOBIL                   69301 non-null  int64  \n",
      " 11  FLAG_EMP_PHONE               69301 non-null  int64  \n",
      " 12  FLAG_WORK_PHONE              69301 non-null  int64  \n",
      " 13  FLAG_CONT_MOBILE             69301 non-null  int64  \n",
      " 14  FLAG_PHONE                   69301 non-null  int64  \n",
      " 15  FLAG_EMAIL                   69301 non-null  int64  \n",
      " 16  CNT_FAM_MEMBERS              69301 non-null  float64\n",
      " 17  REG_REGION_NOT_LIVE_REGION   69301 non-null  int64  \n",
      " 18  REG_REGION_NOT_WORK_REGION   69301 non-null  int64  \n",
      " 19  LIVE_REGION_NOT_WORK_REGION  69301 non-null  int64  \n",
      " 20  REG_CITY_NOT_LIVE_CITY       69301 non-null  int64  \n",
      " 21  REG_CITY_NOT_WORK_CITY       69301 non-null  int64  \n",
      " 22  LIVE_CITY_NOT_WORK_CITY      69301 non-null  int64  \n",
      " 23  TARGET                       69301 non-null  int64  \n",
      "dtypes: float64(6), int64(18)\n",
      "memory usage: 13.2 MB\n"
     ]
    }
   ],
   "source": [
    "subset = data.iloc[:,[4,5,6,7,8,14,15,16,17,18,19,20,21,22,23,24,26,27,28,29,30,31,32,34]]\n",
    "subset.info()"
   ]
  },
  {
   "cell_type": "code",
   "execution_count": 174,
   "id": "bc8d22ef",
   "metadata": {
    "scrolled": true
   },
   "outputs": [
    {
     "data": {
      "text/html": [
       "<div>\n",
       "<style scoped>\n",
       "    .dataframe tbody tr th:only-of-type {\n",
       "        vertical-align: middle;\n",
       "    }\n",
       "\n",
       "    .dataframe tbody tr th {\n",
       "        vertical-align: top;\n",
       "    }\n",
       "\n",
       "    .dataframe thead th {\n",
       "        text-align: right;\n",
       "    }\n",
       "</style>\n",
       "<table border=\"1\" class=\"dataframe\">\n",
       "  <thead>\n",
       "    <tr style=\"text-align: right;\">\n",
       "      <th></th>\n",
       "      <th>CNT_CHILDREN</th>\n",
       "      <th>AMT_INCOME_TOTAL</th>\n",
       "      <th>AMT_CREDIT</th>\n",
       "      <th>AMT_ANNUITY</th>\n",
       "      <th>AMT_GOODS_PRICE</th>\n",
       "      <th>DAYS_BIRTH</th>\n",
       "      <th>DAYS_EMPLOYED</th>\n",
       "      <th>DAYS_REGISTRATION</th>\n",
       "      <th>DAYS_ID_PUBLISH</th>\n",
       "      <th>OWN_CAR_AGE</th>\n",
       "      <th>...</th>\n",
       "      <th>FLAG_PHONE</th>\n",
       "      <th>FLAG_EMAIL</th>\n",
       "      <th>CNT_FAM_MEMBERS</th>\n",
       "      <th>REG_REGION_NOT_LIVE_REGION</th>\n",
       "      <th>REG_REGION_NOT_WORK_REGION</th>\n",
       "      <th>LIVE_REGION_NOT_WORK_REGION</th>\n",
       "      <th>REG_CITY_NOT_LIVE_CITY</th>\n",
       "      <th>REG_CITY_NOT_WORK_CITY</th>\n",
       "      <th>LIVE_CITY_NOT_WORK_CITY</th>\n",
       "      <th>TARGET</th>\n",
       "    </tr>\n",
       "  </thead>\n",
       "  <tbody>\n",
       "    <tr>\n",
       "      <th>2</th>\n",
       "      <td>0</td>\n",
       "      <td>67500.0</td>\n",
       "      <td>135000.0</td>\n",
       "      <td>6750.0</td>\n",
       "      <td>135000.0</td>\n",
       "      <td>-19046</td>\n",
       "      <td>-225</td>\n",
       "      <td>-4260</td>\n",
       "      <td>-2531</td>\n",
       "      <td>26.0</td>\n",
       "      <td>...</td>\n",
       "      <td>1</td>\n",
       "      <td>0</td>\n",
       "      <td>1.0</td>\n",
       "      <td>0</td>\n",
       "      <td>0</td>\n",
       "      <td>0</td>\n",
       "      <td>0</td>\n",
       "      <td>0</td>\n",
       "      <td>0</td>\n",
       "      <td>0</td>\n",
       "    </tr>\n",
       "    <tr>\n",
       "      <th>6</th>\n",
       "      <td>1</td>\n",
       "      <td>171000.0</td>\n",
       "      <td>1560726.0</td>\n",
       "      <td>41301.0</td>\n",
       "      <td>1395000.0</td>\n",
       "      <td>-13778</td>\n",
       "      <td>-3130</td>\n",
       "      <td>-1213</td>\n",
       "      <td>-619</td>\n",
       "      <td>17.0</td>\n",
       "      <td>...</td>\n",
       "      <td>1</td>\n",
       "      <td>0</td>\n",
       "      <td>3.0</td>\n",
       "      <td>0</td>\n",
       "      <td>0</td>\n",
       "      <td>0</td>\n",
       "      <td>0</td>\n",
       "      <td>0</td>\n",
       "      <td>0</td>\n",
       "      <td>0</td>\n",
       "    </tr>\n",
       "    <tr>\n",
       "      <th>7</th>\n",
       "      <td>0</td>\n",
       "      <td>360000.0</td>\n",
       "      <td>1530000.0</td>\n",
       "      <td>42075.0</td>\n",
       "      <td>1530000.0</td>\n",
       "      <td>-18850</td>\n",
       "      <td>-449</td>\n",
       "      <td>-4597</td>\n",
       "      <td>-2379</td>\n",
       "      <td>8.0</td>\n",
       "      <td>...</td>\n",
       "      <td>0</td>\n",
       "      <td>0</td>\n",
       "      <td>2.0</td>\n",
       "      <td>0</td>\n",
       "      <td>0</td>\n",
       "      <td>0</td>\n",
       "      <td>0</td>\n",
       "      <td>1</td>\n",
       "      <td>1</td>\n",
       "      <td>0</td>\n",
       "    </tr>\n",
       "    <tr>\n",
       "      <th>13</th>\n",
       "      <td>1</td>\n",
       "      <td>225000.0</td>\n",
       "      <td>918468.0</td>\n",
       "      <td>28966.5</td>\n",
       "      <td>697500.0</td>\n",
       "      <td>-14086</td>\n",
       "      <td>-3028</td>\n",
       "      <td>-643</td>\n",
       "      <td>-4911</td>\n",
       "      <td>23.0</td>\n",
       "      <td>...</td>\n",
       "      <td>0</td>\n",
       "      <td>0</td>\n",
       "      <td>3.0</td>\n",
       "      <td>0</td>\n",
       "      <td>0</td>\n",
       "      <td>0</td>\n",
       "      <td>0</td>\n",
       "      <td>0</td>\n",
       "      <td>0</td>\n",
       "      <td>0</td>\n",
       "    </tr>\n",
       "    <tr>\n",
       "      <th>15</th>\n",
       "      <td>0</td>\n",
       "      <td>157500.0</td>\n",
       "      <td>299772.0</td>\n",
       "      <td>20160.0</td>\n",
       "      <td>247500.0</td>\n",
       "      <td>-8728</td>\n",
       "      <td>-1157</td>\n",
       "      <td>-3494</td>\n",
       "      <td>-1368</td>\n",
       "      <td>17.0</td>\n",
       "      <td>...</td>\n",
       "      <td>0</td>\n",
       "      <td>0</td>\n",
       "      <td>1.0</td>\n",
       "      <td>0</td>\n",
       "      <td>0</td>\n",
       "      <td>0</td>\n",
       "      <td>1</td>\n",
       "      <td>1</td>\n",
       "      <td>0</td>\n",
       "      <td>0</td>\n",
       "    </tr>\n",
       "  </tbody>\n",
       "</table>\n",
       "<p>5 rows × 24 columns</p>\n",
       "</div>"
      ],
      "text/plain": [
       "    CNT_CHILDREN  AMT_INCOME_TOTAL  AMT_CREDIT  AMT_ANNUITY  AMT_GOODS_PRICE  \\\n",
       "2              0           67500.0    135000.0       6750.0         135000.0   \n",
       "6              1          171000.0   1560726.0      41301.0        1395000.0   \n",
       "7              0          360000.0   1530000.0      42075.0        1530000.0   \n",
       "13             1          225000.0    918468.0      28966.5         697500.0   \n",
       "15             0          157500.0    299772.0      20160.0         247500.0   \n",
       "\n",
       "    DAYS_BIRTH  DAYS_EMPLOYED  DAYS_REGISTRATION  DAYS_ID_PUBLISH  \\\n",
       "2       -19046           -225              -4260            -2531   \n",
       "6       -13778          -3130              -1213             -619   \n",
       "7       -18850           -449              -4597            -2379   \n",
       "13      -14086          -3028               -643            -4911   \n",
       "15       -8728          -1157              -3494            -1368   \n",
       "\n",
       "    OWN_CAR_AGE  ...  FLAG_PHONE  FLAG_EMAIL  CNT_FAM_MEMBERS  \\\n",
       "2          26.0  ...           1           0              1.0   \n",
       "6          17.0  ...           1           0              3.0   \n",
       "7           8.0  ...           0           0              2.0   \n",
       "13         23.0  ...           0           0              3.0   \n",
       "15         17.0  ...           0           0              1.0   \n",
       "\n",
       "    REG_REGION_NOT_LIVE_REGION  REG_REGION_NOT_WORK_REGION  \\\n",
       "2                            0                           0   \n",
       "6                            0                           0   \n",
       "7                            0                           0   \n",
       "13                           0                           0   \n",
       "15                           0                           0   \n",
       "\n",
       "    LIVE_REGION_NOT_WORK_REGION  REG_CITY_NOT_LIVE_CITY  \\\n",
       "2                             0                       0   \n",
       "6                             0                       0   \n",
       "7                             0                       0   \n",
       "13                            0                       0   \n",
       "15                            0                       1   \n",
       "\n",
       "    REG_CITY_NOT_WORK_CITY  LIVE_CITY_NOT_WORK_CITY  TARGET  \n",
       "2                        0                        0       0  \n",
       "6                        0                        0       0  \n",
       "7                        1                        1       0  \n",
       "13                       0                        0       0  \n",
       "15                       1                        0       0  \n",
       "\n",
       "[5 rows x 24 columns]"
      ]
     },
     "execution_count": 174,
     "metadata": {},
     "output_type": "execute_result"
    }
   ],
   "source": [
    "subset.head()"
   ]
  },
  {
   "cell_type": "markdown",
   "id": "66b77cb4",
   "metadata": {},
   "source": [
    "ABC management needs the analysis of their out loans, so our process of outliers finding focuses on money/amount that may influence the loans(including income or credits that customers have), preparing for further regression analysis."
   ]
  },
  {
   "cell_type": "code",
   "execution_count": 175,
   "id": "618fb256",
   "metadata": {
    "scrolled": true
   },
   "outputs": [],
   "source": [
    "Q1 = subset.quantile(0.25)\n",
    "Q3 = subset.quantile(0.75)\n",
    "IQR = Q3 - Q1"
   ]
  },
  {
   "cell_type": "code",
   "execution_count": 176,
   "id": "7aa78855",
   "metadata": {
    "scrolled": false
   },
   "outputs": [],
   "source": [
    "IQGL =  Q3['AMT_INCOME_TOTAL'] - Q1['AMT_INCOME_TOTAL']\n",
    "\n",
    "below = Q1['AMT_INCOME_TOTAL'] - 1.5 * IQGL\n",
    "above = Q3['AMT_INCOME_TOTAL'] + 1.5 * IQGL\n",
    "\n",
    "data = data.loc[(subset['AMT_INCOME_TOTAL'] >= below) & (subset['AMT_INCOME_TOTAL'] <= above)]"
   ]
  },
  {
   "cell_type": "code",
   "execution_count": 177,
   "id": "a8aec13f",
   "metadata": {},
   "outputs": [],
   "source": [
    "IQGL =  Q3['AMT_GOODS_PRICE'] - Q1['AMT_GOODS_PRICE']\n",
    "\n",
    "below = Q1['AMT_GOODS_PRICE'] - 1.5 * IQGL\n",
    "above = Q3['AMT_GOODS_PRICE'] + 1.5 * IQGL\n",
    "\n",
    "data = data.loc[(subset['AMT_GOODS_PRICE'] >= below)  & (subset['AMT_GOODS_PRICE'] <= above)]"
   ]
  },
  {
   "cell_type": "code",
   "execution_count": 178,
   "id": "65e0d348",
   "metadata": {
    "scrolled": true
   },
   "outputs": [],
   "source": [
    "IQGL =  Q3['AMT_ANNUITY'] - Q1['AMT_ANNUITY']\n",
    "\n",
    "below = Q1['AMT_ANNUITY'] - 1.5 * IQGL\n",
    "above = Q3['AMT_ANNUITY'] + 1.5 * IQGL\n",
    "\n",
    "data = data.loc[(subset['AMT_ANNUITY'] >= below)  & (subset['AMT_ANNUITY'] <= above)]"
   ]
  },
  {
   "cell_type": "code",
   "execution_count": 179,
   "id": "01141e08",
   "metadata": {
    "scrolled": true
   },
   "outputs": [],
   "source": [
    "IQGL =  Q3['AMT_CREDIT'] - Q1['AMT_CREDIT']\n",
    "\n",
    "below = Q1['AMT_CREDIT'] - 1.5 * IQGL\n",
    "above = Q3['AMT_CREDIT'] + 1.5 * IQGL\n",
    "\n",
    "data = data.loc[(subset['AMT_CREDIT'] >= below)  & (subset['AMT_CREDIT'] <= above)]"
   ]
  },
  {
   "cell_type": "code",
   "execution_count": 180,
   "id": "6ffbd31b",
   "metadata": {
    "scrolled": true
   },
   "outputs": [
    {
     "name": "stdout",
     "output_type": "stream",
     "text": [
      "<class 'pandas.core.frame.DataFrame'>\n",
      "Index: 63545 entries, 2 to 214078\n",
      "Data columns (total 35 columns):\n",
      " #   Column                       Non-Null Count  Dtype  \n",
      "---  ------                       --------------  -----  \n",
      " 0   NAME_CONTRACT_TYPE           63545 non-null  object \n",
      " 1   CODE_GENDER                  63545 non-null  object \n",
      " 2   FLAG_OWN_CAR                 63545 non-null  object \n",
      " 3   FLAG_OWN_REALTY              63545 non-null  object \n",
      " 4   CNT_CHILDREN                 63545 non-null  int64  \n",
      " 5   AMT_INCOME_TOTAL             63545 non-null  float64\n",
      " 6   AMT_CREDIT                   63545 non-null  float64\n",
      " 7   AMT_ANNUITY                  63545 non-null  float64\n",
      " 8   AMT_GOODS_PRICE              63545 non-null  float64\n",
      " 9   NAME_TYPE_SUITE              63545 non-null  object \n",
      " 10  NAME_INCOME_TYPE             63545 non-null  object \n",
      " 11  NAME_EDUCATION_TYPE          63545 non-null  object \n",
      " 12  NAME_FAMILY_STATUS           63545 non-null  object \n",
      " 13  NAME_HOUSING_TYPE            63545 non-null  object \n",
      " 14  DAYS_BIRTH                   63545 non-null  int64  \n",
      " 15  DAYS_EMPLOYED                63545 non-null  int64  \n",
      " 16  DAYS_REGISTRATION            63545 non-null  int64  \n",
      " 17  DAYS_ID_PUBLISH              63545 non-null  int64  \n",
      " 18  OWN_CAR_AGE                  63545 non-null  float64\n",
      " 19  FLAG_MOBIL                   63545 non-null  int64  \n",
      " 20  FLAG_EMP_PHONE               63545 non-null  int64  \n",
      " 21  FLAG_WORK_PHONE              63545 non-null  int64  \n",
      " 22  FLAG_CONT_MOBILE             63545 non-null  int64  \n",
      " 23  FLAG_PHONE                   63545 non-null  int64  \n",
      " 24  FLAG_EMAIL                   63545 non-null  int64  \n",
      " 25  OCCUPATION_TYPE              63545 non-null  object \n",
      " 26  CNT_FAM_MEMBERS              63545 non-null  float64\n",
      " 27  REG_REGION_NOT_LIVE_REGION   63545 non-null  int64  \n",
      " 28  REG_REGION_NOT_WORK_REGION   63545 non-null  int64  \n",
      " 29  LIVE_REGION_NOT_WORK_REGION  63545 non-null  int64  \n",
      " 30  REG_CITY_NOT_LIVE_CITY       63545 non-null  int64  \n",
      " 31  REG_CITY_NOT_WORK_CITY       63545 non-null  int64  \n",
      " 32  LIVE_CITY_NOT_WORK_CITY      63545 non-null  int64  \n",
      " 33  ORGANIZATION_TYPE            63545 non-null  object \n",
      " 34  TARGET                       63545 non-null  int64  \n",
      "dtypes: float64(6), int64(18), object(11)\n",
      "memory usage: 17.5+ MB\n"
     ]
    }
   ],
   "source": [
    "data.info()"
   ]
  },
  {
   "cell_type": "markdown",
   "id": "7c855bf5",
   "metadata": {},
   "source": [
    "# Who are ABC's Clients"
   ]
  },
  {
   "cell_type": "markdown",
   "id": "93f20e37",
   "metadata": {},
   "source": [
    "Create column YEAR to tell how old is the clients and making bin to make categories"
   ]
  },
  {
   "cell_type": "code",
   "execution_count": 181,
   "id": "d76b0e39",
   "metadata": {
    "scrolled": true
   },
   "outputs": [],
   "source": [
    "data['YEAR'] = round(abs(data['DAYS_BIRTH'])/365)"
   ]
  },
  {
   "cell_type": "code",
   "execution_count": 182,
   "id": "84f5f751",
   "metadata": {
    "scrolled": false
   },
   "outputs": [
    {
     "name": "stdout",
     "output_type": "stream",
     "text": [
      "21.0\n",
      "69.0\n"
     ]
    }
   ],
   "source": [
    "print(min(data['YEAR']))\n",
    "print(max(data['YEAR']))"
   ]
  },
  {
   "cell_type": "code",
   "execution_count": 183,
   "id": "2257cf34",
   "metadata": {},
   "outputs": [],
   "source": [
    "data['AGEBIN'] = pd.cut(data['YEAR'],bins = [20,25,30,35,40,45,50,55,60,65,70], labels=['21-25', '26-30', '31-35', '36-40', '41-45', '46-50', '51-55', '56-60', '61-65', '66-70'])"
   ]
  },
  {
   "cell_type": "code",
   "execution_count": 184,
   "id": "07d7eb7e",
   "metadata": {},
   "outputs": [
    {
     "name": "stdout",
     "output_type": "stream",
     "text": [
      "26550.0\n",
      "360000.0\n"
     ]
    }
   ],
   "source": [
    "print(min(data['AMT_INCOME_TOTAL']))\n",
    "print(max(data['AMT_INCOME_TOTAL']))"
   ]
  },
  {
   "cell_type": "code",
   "execution_count": 185,
   "id": "f076cc20",
   "metadata": {},
   "outputs": [],
   "source": [
    "data['INCOMEBIN'] = pd.cut(data['AMT_INCOME_TOTAL'], bins=[14580,38133,57200,114400,400000], labels=['Lower income','Median income','Upper income','Wealthy'])"
   ]
  },
  {
   "cell_type": "markdown",
   "id": "42a0ffe6",
   "metadata": {},
   "source": [
    "Amount of ABC have out in loans => $103,377,038,004"
   ]
  },
  {
   "cell_type": "code",
   "execution_count": 186,
   "id": "b9ceb42c",
   "metadata": {},
   "outputs": [
    {
     "data": {
      "text/plain": [
       "39228506424.0"
      ]
     },
     "execution_count": 186,
     "metadata": {},
     "output_type": "execute_result"
    }
   ],
   "source": [
    "data['AMT_CREDIT'].sum()"
   ]
  },
  {
   "cell_type": "markdown",
   "id": "c7001366",
   "metadata": {},
   "source": [
    "How much are in default/late? => $8,564,680,633.5"
   ]
  },
  {
   "cell_type": "code",
   "execution_count": 187,
   "id": "f22b6403",
   "metadata": {
    "scrolled": true
   },
   "outputs": [
    {
     "data": {
      "text/plain": [
       "2782120090.5"
      ]
     },
     "execution_count": 187,
     "metadata": {},
     "output_type": "execute_result"
    }
   ],
   "source": [
    "late = data.loc[data['TARGET']==1]\n",
    "late['AMT_CREDIT'].sum()"
   ]
  },
  {
   "cell_type": "markdown",
   "id": "92a71379",
   "metadata": {},
   "source": [
    "Percentage of the business are default and late => 8.28%"
   ]
  },
  {
   "cell_type": "code",
   "execution_count": 188,
   "id": "7b8aa3a6",
   "metadata": {
    "scrolled": false
   },
   "outputs": [
    {
     "data": {
      "text/plain": [
       "0.07092087729340363"
      ]
     },
     "execution_count": 188,
     "metadata": {},
     "output_type": "execute_result"
    }
   ],
   "source": [
    "late['AMT_CREDIT'].sum()/data['AMT_CREDIT'].sum()"
   ]
  },
  {
   "cell_type": "markdown",
   "id": "d3805e0a",
   "metadata": {},
   "source": [
    "Demographic information"
   ]
  },
  {
   "cell_type": "code",
   "execution_count": 189,
   "id": "5fd92bd0",
   "metadata": {
    "scrolled": true
   },
   "outputs": [
    {
     "name": "stdout",
     "output_type": "stream",
     "text": [
      "        count\n",
      "AGEBIN       \n",
      "36-40   10658\n",
      "31-35    9844\n",
      "41-45    9387\n",
      "26-30    8395\n",
      "46-50    7371\n",
      "51-55    6403\n",
      "56-60    4974\n",
      "61-65    3067\n",
      "21-25    2840\n",
      "66-70     606\n",
      "             count\n",
      "CODE_GENDER       \n",
      "M            36456\n",
      "F            27087\n",
      "XNA              2\n",
      "               count\n",
      "INCOMEBIN           \n",
      "Wealthy        49150\n",
      "Upper income   13739\n",
      "Median income    589\n",
      "Lower income      67\n"
     ]
    }
   ],
   "source": [
    "dfage=pd.DataFrame(data['AGEBIN'].value_counts())\n",
    "dfgender=pd.DataFrame(data['CODE_GENDER'].value_counts())\n",
    "dfincome=pd.DataFrame(data['INCOMEBIN'].value_counts())\n",
    "print(dfage)\n",
    "print(dfgender)\n",
    "print(dfincome)"
   ]
  },
  {
   "cell_type": "code",
   "execution_count": 190,
   "id": "7314eb36",
   "metadata": {},
   "outputs": [
    {
     "name": "stdout",
     "output_type": "stream",
     "text": [
      "        proportion\n",
      "AGEBIN            \n",
      "36-40     0.167724\n",
      "31-35     0.154914\n",
      "41-45     0.147722\n",
      "26-30     0.132111\n",
      "46-50     0.115997\n",
      "51-55     0.100763\n",
      "56-60     0.078275\n",
      "61-65     0.048265\n",
      "21-25     0.044693\n",
      "66-70     0.009537\n",
      "             proportion\n",
      "CODE_GENDER            \n",
      "M              0.573704\n",
      "F              0.426265\n",
      "XNA            0.000031\n",
      "               proportion\n",
      "INCOMEBIN                \n",
      "Wealthy          0.773468\n",
      "Upper income     0.216209\n",
      "Median income    0.009269\n",
      "Lower income     0.001054\n"
     ]
    }
   ],
   "source": [
    "dfage=pd.DataFrame(data['AGEBIN'].value_counts(normalize=True))\n",
    "dfgender=pd.DataFrame(data['CODE_GENDER'].value_counts(normalize=True))\n",
    "dfincome=pd.DataFrame(data['INCOMEBIN'].value_counts(normalize=True))\n",
    "print(dfage)\n",
    "print(dfgender)\n",
    "print(dfincome)"
   ]
  },
  {
   "cell_type": "code",
   "execution_count": 191,
   "id": "7992a268",
   "metadata": {},
   "outputs": [
    {
     "name": "stderr",
     "output_type": "stream",
     "text": [
      "/var/folders/zs/rrjkw77s6nb6hr1llg5zlw6r0000gn/T/ipykernel_858/2906644783.py:1: FutureWarning: The default of observed=False is deprecated and will be changed to True in a future version of pandas. Pass observed=False to retain current behavior or observed=True to adopt the future default and silence this warning.\n",
      "  agebin=data.groupby(['AGEBIN'],as_index=False)['YEAR'].count()\n"
     ]
    },
    {
     "data": {
      "text/plain": [
       "Text(0, 0.5, 'Amount')"
      ]
     },
     "execution_count": 191,
     "metadata": {},
     "output_type": "execute_result"
    },
    {
     "data": {
      "image/png": "[encoded data removed]",
      "text/plain": [
       "<Figure size 640x480 with 1 Axes>"
      ]
     },
     "metadata": {},
     "output_type": "display_data"
    }
   ],
   "source": [
    "agebin=data.groupby(['AGEBIN'],as_index=False)['YEAR'].count()\n",
    "\n",
    "plt.bar(agebin['AGEBIN'], agebin['YEAR'], color = 'red')\n",
    "plt.xlabel('Age')\n",
    "plt.ylabel('Amount')"
   ]
  },
  {
   "cell_type": "code",
   "execution_count": 192,
   "id": "8ec1f80d",
   "metadata": {
    "scrolled": true
   },
   "outputs": [
    {
     "data": {
      "image/png": "[encoded data removed]",
      "text/plain": [
       "<Figure size 640x480 with 1 Axes>"
      ]
     },
     "metadata": {},
     "output_type": "display_data"
    }
   ],
   "source": [
    "gender = data.groupby('CODE_GENDER').size().reset_index(name='Count')\n",
    "\n",
    "plt.bar(gender['CODE_GENDER'], gender['Count'], color='blue')\n",
    "plt.xlabel('Gender')\n",
    "plt.ylabel('Count')\n",
    "plt.title('Loan Applications by Gender')\n",
    "plt.show()"
   ]
  },
  {
   "cell_type": "code",
   "execution_count": 193,
   "id": "2f60a302",
   "metadata": {
    "scrolled": true
   },
   "outputs": [
    {
     "name": "stderr",
     "output_type": "stream",
     "text": [
      "/var/folders/zs/rrjkw77s6nb6hr1llg5zlw6r0000gn/T/ipykernel_858/651266375.py:1: FutureWarning: The default of observed=False is deprecated and will be changed to True in a future version of pandas. Pass observed=False to retain current behavior or observed=True to adopt the future default and silence this warning.\n",
      "  income = data.groupby('INCOMEBIN').size().reset_index(name='Count')\n"
     ]
    },
    {
     "data": {
      "image/png": "[encoded data removed]",
      "text/plain": [
       "<Figure size 640x480 with 1 Axes>"
      ]
     },
     "metadata": {},
     "output_type": "display_data"
    }
   ],
   "source": [
    "income = data.groupby('INCOMEBIN').size().reset_index(name='Count')\n",
    "\n",
    "plt.bar(income['INCOMEBIN'], income['Count'], color='green')\n",
    "plt.xlabel('Income Level')\n",
    "plt.ylabel('Number of Applicants')\n",
    "plt.title('Loan Applications by Income Level')\n",
    "plt.xticks(rotation=45)\n",
    "plt.show()"
   ]
  },
  {
   "cell_type": "code",
   "execution_count": 194,
   "id": "176dc277",
   "metadata": {
    "scrolled": true
   },
   "outputs": [
    {
     "data": {
      "image/png": "[encoded data removed]",
      "text/plain": [
       "<Figure size 640x480 with 1 Axes>"
      ]
     },
     "metadata": {},
     "output_type": "display_data"
    }
   ],
   "source": [
    "plt.hist(data['AMT_INCOME_TOTAL'], bins=20)\n",
    "plt.xlabel('Income')\n",
    "plt.ylabel('Frequency')\n",
    "plt.title('Distribution of Income')\n",
    "plt.show()"
   ]
  },
  {
   "cell_type": "code",
   "execution_count": 195,
   "id": "e17bb9a3",
   "metadata": {},
   "outputs": [
    {
     "data": {
      "image/png": "[encoded data removed]",
      "text/plain": [
       "<Figure size 640x480 with 1 Axes>"
      ]
     },
     "metadata": {},
     "output_type": "display_data"
    }
   ],
   "source": [
    "sb.barplot(x='NAME_FAMILY_STATUS', y='AMT_CREDIT', data=data)\n",
    "plt.xlabel('Family Status')\n",
    "plt.ylabel('Credit Amount')\n",
    "plt.title('Credit Amount by Family Status')\n",
    "plt.show()"
   ]
  },
  {
   "cell_type": "markdown",
   "id": "2a7de163",
   "metadata": {},
   "source": [
    "# Visualizations of Customers in Late"
   ]
  },
  {
   "cell_type": "code",
   "execution_count": 196,
   "id": "cecf8138",
   "metadata": {},
   "outputs": [],
   "source": [
    "data['LATEORNOT'] = data['TARGET'].map({0: 'Always On Time', 1: 'Late Payment'})"
   ]
  },
  {
   "cell_type": "code",
   "execution_count": 197,
   "id": "dc372894",
   "metadata": {},
   "outputs": [
    {
     "name": "stderr",
     "output_type": "stream",
     "text": [
      "/var/folders/zs/rrjkw77s6nb6hr1llg5zlw6r0000gn/T/ipykernel_858/156523943.py:2: FutureWarning: The default of observed=False is deprecated and will be changed to True in a future version of pandas. Pass observed=False to retain current behavior or observed=True to adopt the future default and silence this warning.\n",
      "  data.groupby('INCOMEBIN')['LATEORNOT']\n"
     ]
    }
   ],
   "source": [
    "late_payment_prob = (\n",
    "    data.groupby('INCOMEBIN')['LATEORNOT']\n",
    "    .value_counts(normalize=True)\n",
    "    .loc[:, 'Late Payment'])"
   ]
  },
  {
   "cell_type": "code",
   "execution_count": 198,
   "id": "38d2f991",
   "metadata": {},
   "outputs": [
    {
     "data": {
      "text/plain": [
       "INCOMEBIN\n",
       "Lower income     0.059701\n",
       "Median income    0.057725\n",
       "Upper income     0.076570\n",
       "Wealthy          0.073774\n",
       "Name: proportion, dtype: float64"
      ]
     },
     "execution_count": 198,
     "metadata": {},
     "output_type": "execute_result"
    }
   ],
   "source": [
    "late_payment_prob"
   ]
  },
  {
   "cell_type": "markdown",
   "id": "fc15d52f",
   "metadata": {},
   "source": [
    "Use the income level to see the amount of late payment"
   ]
  },
  {
   "cell_type": "code",
   "execution_count": 199,
   "id": "93026c3e",
   "metadata": {
    "scrolled": false
   },
   "outputs": [
    {
     "name": "stderr",
     "output_type": "stream",
     "text": [
      "/var/folders/zs/rrjkw77s6nb6hr1llg5zlw6r0000gn/T/ipykernel_858/1504390424.py:1: FutureWarning: The default of observed=False is deprecated and will be changed to True in a future version of pandas. Pass observed=False to retain current behavior or observed=True to adopt the future default and silence this warning.\n",
      "  data.groupby('INCOMEBIN')['LATEORNOT'].value_counts()\n"
     ]
    },
    {
     "data": {
      "text/plain": [
       "INCOMEBIN      LATEORNOT     \n",
       "Lower income   Always On Time       63\n",
       "               Late Payment          4\n",
       "Median income  Always On Time      555\n",
       "               Late Payment         34\n",
       "Upper income   Always On Time    12687\n",
       "               Late Payment       1052\n",
       "Wealthy        Always On Time    45524\n",
       "               Late Payment       3626\n",
       "Name: count, dtype: int64"
      ]
     },
     "execution_count": 199,
     "metadata": {},
     "output_type": "execute_result"
    }
   ],
   "source": [
    "data.groupby('INCOMEBIN')['LATEORNOT'].value_counts()"
   ]
  },
  {
   "cell_type": "markdown",
   "id": "e8664ffc",
   "metadata": {},
   "source": [
    "The probability of each income level having a late payment => There is no significant difference between income levels."
   ]
  },
  {
   "cell_type": "code",
   "execution_count": 200,
   "id": "3321d2b5",
   "metadata": {
    "scrolled": true
   },
   "outputs": [
    {
     "name": "stdout",
     "output_type": "stream",
     "text": [
      "INCOMEBIN\n",
      "Lower income     0.059701\n",
      "Median income    0.057725\n",
      "Upper income     0.076570\n",
      "Wealthy          0.073774\n",
      "Name: proportion, dtype: float64\n"
     ]
    },
    {
     "name": "stderr",
     "output_type": "stream",
     "text": [
      "/var/folders/zs/rrjkw77s6nb6hr1llg5zlw6r0000gn/T/ipykernel_858/1051948759.py:1: FutureWarning: The default of observed=False is deprecated and will be changed to True in a future version of pandas. Pass observed=False to retain current behavior or observed=True to adopt the future default and silence this warning.\n",
      "  late_payment_prob = data.groupby('INCOMEBIN')['LATEORNOT'].value_counts(normalize=True).loc[:, 'Late Payment']\n"
     ]
    }
   ],
   "source": [
    "late_payment_prob = data.groupby('INCOMEBIN')['LATEORNOT'].value_counts(normalize=True).loc[:, 'Late Payment']\n",
    "print(late_payment_prob)"
   ]
  },
  {
   "cell_type": "code",
   "execution_count": 201,
   "id": "04644806",
   "metadata": {},
   "outputs": [
    {
     "data": {
      "image/png": "[encoded data removed]",
      "text/plain": [
       "<Figure size 800x600 with 1 Axes>"
      ]
     },
     "metadata": {},
     "output_type": "display_data"
    }
   ],
   "source": [
    "plt.figure(figsize=(8, 6))\n",
    "sb.countplot(data=data, x='LATEORNOT', hue='INCOMEBIN', palette='Set2')\n",
    "plt.xlabel('Loan Payment Status')\n",
    "plt.ylabel('Count')\n",
    "plt.title('Distribution of INCOMEBIN across Loan Payment Status')\n",
    "plt.legend(title='INCOMEBIN')\n",
    "plt.show()"
   ]
  },
  {
   "cell_type": "markdown",
   "id": "14f72b83",
   "metadata": {},
   "source": [
    "Use the income type to see the amount of late payment"
   ]
  },
  {
   "cell_type": "code",
   "execution_count": 202,
   "id": "7384a9ef",
   "metadata": {
    "scrolled": false
   },
   "outputs": [
    {
     "data": {
      "text/plain": [
       "NAME_INCOME_TYPE      LATEORNOT     \n",
       "Businessman           Always On Time        1\n",
       "Commercial associate  Always On Time    15008\n",
       "                      Late Payment       1074\n",
       "Pensioner             Always On Time     6023\n",
       "                      Late Payment        319\n",
       "State servant         Always On Time     4201\n",
       "                      Late Payment        250\n",
       "Student               Always On Time        3\n",
       "Unemployed            Always On Time        4\n",
       "                      Late Payment          1\n",
       "Working               Always On Time    33589\n",
       "                      Late Payment       3072\n",
       "Name: count, dtype: int64"
      ]
     },
     "execution_count": 202,
     "metadata": {},
     "output_type": "execute_result"
    }
   ],
   "source": [
    "data.groupby('NAME_INCOME_TYPE')['LATEORNOT'].value_counts()"
   ]
  },
  {
   "cell_type": "code",
   "execution_count": 203,
   "id": "43ca77b6",
   "metadata": {
    "scrolled": false
   },
   "outputs": [
    {
     "name": "stdout",
     "output_type": "stream",
     "text": [
      "NAME_INCOME_TYPE\n",
      "Commercial associate    0.066783\n",
      "Pensioner               0.050300\n",
      "State servant           0.056167\n",
      "Unemployed              0.200000\n",
      "Working                 0.083795\n",
      "Name: proportion, dtype: float64\n"
     ]
    }
   ],
   "source": [
    "late_payment_prob = data.groupby('NAME_INCOME_TYPE')['LATEORNOT'].value_counts(normalize=True).loc[:, 'Late Payment']\n",
    "print(late_payment_prob)"
   ]
  },
  {
   "cell_type": "code",
   "execution_count": 204,
   "id": "0a06c912",
   "metadata": {
    "scrolled": true
   },
   "outputs": [
    {
     "data": {
      "text/plain": [
       "<Axes: xlabel='NAME_INCOME_TYPE', ylabel='count'>"
      ]
     },
     "execution_count": 204,
     "metadata": {},
     "output_type": "execute_result"
    },
    {
     "data": {
      "image/png": "[encoded data removed]",
      "text/plain": [
       "<Figure size 640x480 with 1 Axes>"
      ]
     },
     "metadata": {},
     "output_type": "display_data"
    }
   ],
   "source": [
    "sb.countplot(data=data, x='NAME_INCOME_TYPE', hue='LATEORNOT')"
   ]
  },
  {
   "cell_type": "markdown",
   "id": "c0e53fbd",
   "metadata": {},
   "source": [
    "Use the gender to see the amount of late payment"
   ]
  },
  {
   "cell_type": "code",
   "execution_count": 205,
   "id": "b174af95",
   "metadata": {
    "scrolled": true
   },
   "outputs": [
    {
     "data": {
      "text/plain": [
       "CODE_GENDER  LATEORNOT     \n",
       "F            Always On Time    25484\n",
       "             Late Payment       1603\n",
       "M            Always On Time    33343\n",
       "             Late Payment       3113\n",
       "XNA          Always On Time        2\n",
       "Name: count, dtype: int64"
      ]
     },
     "execution_count": 205,
     "metadata": {},
     "output_type": "execute_result"
    }
   ],
   "source": [
    "data.groupby('CODE_GENDER')['LATEORNOT'].value_counts()"
   ]
  },
  {
   "cell_type": "code",
   "execution_count": 206,
   "id": "b13aee39",
   "metadata": {},
   "outputs": [
    {
     "name": "stdout",
     "output_type": "stream",
     "text": [
      "CODE_GENDER\n",
      "F    0.059180\n",
      "M    0.085391\n",
      "Name: proportion, dtype: float64\n"
     ]
    }
   ],
   "source": [
    "late_payment_prob = data.groupby('CODE_GENDER')['LATEORNOT'].value_counts(normalize=True).loc[:, 'Late Payment']\n",
    "print(late_payment_prob)"
   ]
  },
  {
   "cell_type": "code",
   "execution_count": 207,
   "id": "6855d50c",
   "metadata": {
    "scrolled": true
   },
   "outputs": [
    {
     "data": {
      "image/png": "[encoded data removed]",
      "text/plain": [
       "<Figure size 800x600 with 1 Axes>"
      ]
     },
     "metadata": {},
     "output_type": "display_data"
    }
   ],
   "source": [
    "plt.figure(figsize=(8, 6))\n",
    "sb.countplot(data=data, x='CODE_GENDER', hue='LATEORNOT', palette='Set2')\n",
    "plt.xlabel('Gender')\n",
    "plt.ylabel('Count')\n",
    "plt.title('Late Payment by Gender')\n",
    "plt.legend(title='Loan Payment Status')\n",
    "plt.show()"
   ]
  },
  {
   "cell_type": "markdown",
   "id": "605bb660",
   "metadata": {},
   "source": [
    "Use the amount of credits to observe the late payment => The results show that low credit does not represent the probability of delayed payment. The median credit of late payment or on-time payment is similar."
   ]
  },
  {
   "cell_type": "code",
   "execution_count": 208,
   "id": "33fe353b",
   "metadata": {},
   "outputs": [
    {
     "data": {
      "image/png": "[encoded data removed]",
      "text/plain": [
       "<Figure size 800x600 with 1 Axes>"
      ]
     },
     "metadata": {},
     "output_type": "display_data"
    }
   ],
   "source": [
    "plt.figure(figsize=(8, 6))\n",
    "sb.boxplot(x='LATEORNOT', y='AMT_CREDIT', data=data, palette='Set2')\n",
    "plt.xlabel('Loan Payment Status')\n",
    "plt.ylabel('Amount of Credits')\n",
    "plt.title('Late Payment by Amount of Credits')\n",
    "plt.show()"
   ]
  },
  {
   "cell_type": "markdown",
   "id": "ffc4e5bc",
   "metadata": {},
   "source": [
    "# Prepare the data for a regression analysis"
   ]
  },
  {
   "cell_type": "code",
   "execution_count": 209,
   "id": "4db247ae",
   "metadata": {},
   "outputs": [],
   "source": [
    "from sklearn.linear_model import LogisticRegression\n",
    "import matplotlib.pyplot as plt\n",
    "from sklearn.model_selection import train_test_split\n",
    "from sklearn import metrics"
   ]
  },
  {
   "cell_type": "markdown",
   "id": "500ac5cb",
   "metadata": {},
   "source": [
    "Set TARGET to be our dependent variable to analyze and drop the categorical value, adding the get_dummies columns."
   ]
  },
  {
   "cell_type": "code",
   "execution_count": 210,
   "id": "2e3cc04f",
   "metadata": {
    "scrolled": true
   },
   "outputs": [],
   "source": [
    "X=data"
   ]
  },
  {
   "cell_type": "code",
   "execution_count": 211,
   "id": "d5cc8659",
   "metadata": {},
   "outputs": [],
   "source": [
    "X=X.drop([\"AGEBIN\"], axis=1)\n",
    "X=X.drop([\"LATEORNOT\"], axis=1)"
   ]
  },
  {
   "cell_type": "code",
   "execution_count": 212,
   "id": "aae90686",
   "metadata": {
    "scrolled": false
   },
   "outputs": [
    {
     "data": {
      "text/html": [
       "<div>\n",
       "<style scoped>\n",
       "    .dataframe tbody tr th:only-of-type {\n",
       "        vertical-align: middle;\n",
       "    }\n",
       "\n",
       "    .dataframe tbody tr th {\n",
       "        vertical-align: top;\n",
       "    }\n",
       "\n",
       "    .dataframe thead th {\n",
       "        text-align: right;\n",
       "    }\n",
       "</style>\n",
       "<table border=\"1\" class=\"dataframe\">\n",
       "  <thead>\n",
       "    <tr style=\"text-align: right;\">\n",
       "      <th></th>\n",
       "      <th>CNT_CHILDREN</th>\n",
       "      <th>AMT_INCOME_TOTAL</th>\n",
       "      <th>AMT_CREDIT</th>\n",
       "      <th>AMT_ANNUITY</th>\n",
       "      <th>AMT_GOODS_PRICE</th>\n",
       "      <th>DAYS_BIRTH</th>\n",
       "      <th>DAYS_EMPLOYED</th>\n",
       "      <th>DAYS_REGISTRATION</th>\n",
       "      <th>DAYS_ID_PUBLISH</th>\n",
       "      <th>OWN_CAR_AGE</th>\n",
       "      <th>...</th>\n",
       "      <th>ORGANIZATION_TYPE_Transport: type 1</th>\n",
       "      <th>ORGANIZATION_TYPE_Transport: type 2</th>\n",
       "      <th>ORGANIZATION_TYPE_Transport: type 3</th>\n",
       "      <th>ORGANIZATION_TYPE_Transport: type 4</th>\n",
       "      <th>ORGANIZATION_TYPE_University</th>\n",
       "      <th>ORGANIZATION_TYPE_XNA</th>\n",
       "      <th>INCOMEBIN_Lower income</th>\n",
       "      <th>INCOMEBIN_Median income</th>\n",
       "      <th>INCOMEBIN_Upper income</th>\n",
       "      <th>INCOMEBIN_Wealthy</th>\n",
       "    </tr>\n",
       "  </thead>\n",
       "  <tbody>\n",
       "    <tr>\n",
       "      <th>2</th>\n",
       "      <td>0</td>\n",
       "      <td>67500.0</td>\n",
       "      <td>135000.0</td>\n",
       "      <td>6750.0</td>\n",
       "      <td>135000.0</td>\n",
       "      <td>-19046</td>\n",
       "      <td>-225</td>\n",
       "      <td>-4260</td>\n",
       "      <td>-2531</td>\n",
       "      <td>26.0</td>\n",
       "      <td>...</td>\n",
       "      <td>False</td>\n",
       "      <td>False</td>\n",
       "      <td>False</td>\n",
       "      <td>False</td>\n",
       "      <td>False</td>\n",
       "      <td>False</td>\n",
       "      <td>False</td>\n",
       "      <td>False</td>\n",
       "      <td>True</td>\n",
       "      <td>False</td>\n",
       "    </tr>\n",
       "    <tr>\n",
       "      <th>6</th>\n",
       "      <td>1</td>\n",
       "      <td>171000.0</td>\n",
       "      <td>1560726.0</td>\n",
       "      <td>41301.0</td>\n",
       "      <td>1395000.0</td>\n",
       "      <td>-13778</td>\n",
       "      <td>-3130</td>\n",
       "      <td>-1213</td>\n",
       "      <td>-619</td>\n",
       "      <td>17.0</td>\n",
       "      <td>...</td>\n",
       "      <td>False</td>\n",
       "      <td>False</td>\n",
       "      <td>False</td>\n",
       "      <td>False</td>\n",
       "      <td>False</td>\n",
       "      <td>False</td>\n",
       "      <td>False</td>\n",
       "      <td>False</td>\n",
       "      <td>False</td>\n",
       "      <td>True</td>\n",
       "    </tr>\n",
       "    <tr>\n",
       "      <th>7</th>\n",
       "      <td>0</td>\n",
       "      <td>360000.0</td>\n",
       "      <td>1530000.0</td>\n",
       "      <td>42075.0</td>\n",
       "      <td>1530000.0</td>\n",
       "      <td>-18850</td>\n",
       "      <td>-449</td>\n",
       "      <td>-4597</td>\n",
       "      <td>-2379</td>\n",
       "      <td>8.0</td>\n",
       "      <td>...</td>\n",
       "      <td>False</td>\n",
       "      <td>False</td>\n",
       "      <td>False</td>\n",
       "      <td>False</td>\n",
       "      <td>False</td>\n",
       "      <td>False</td>\n",
       "      <td>False</td>\n",
       "      <td>False</td>\n",
       "      <td>False</td>\n",
       "      <td>True</td>\n",
       "    </tr>\n",
       "    <tr>\n",
       "      <th>13</th>\n",
       "      <td>1</td>\n",
       "      <td>225000.0</td>\n",
       "      <td>918468.0</td>\n",
       "      <td>28966.5</td>\n",
       "      <td>697500.0</td>\n",
       "      <td>-14086</td>\n",
       "      <td>-3028</td>\n",
       "      <td>-643</td>\n",
       "      <td>-4911</td>\n",
       "      <td>23.0</td>\n",
       "      <td>...</td>\n",
       "      <td>False</td>\n",
       "      <td>False</td>\n",
       "      <td>False</td>\n",
       "      <td>False</td>\n",
       "      <td>False</td>\n",
       "      <td>False</td>\n",
       "      <td>False</td>\n",
       "      <td>False</td>\n",
       "      <td>False</td>\n",
       "      <td>True</td>\n",
       "    </tr>\n",
       "    <tr>\n",
       "      <th>15</th>\n",
       "      <td>0</td>\n",
       "      <td>157500.0</td>\n",
       "      <td>299772.0</td>\n",
       "      <td>20160.0</td>\n",
       "      <td>247500.0</td>\n",
       "      <td>-8728</td>\n",
       "      <td>-1157</td>\n",
       "      <td>-3494</td>\n",
       "      <td>-1368</td>\n",
       "      <td>17.0</td>\n",
       "      <td>...</td>\n",
       "      <td>False</td>\n",
       "      <td>False</td>\n",
       "      <td>False</td>\n",
       "      <td>False</td>\n",
       "      <td>False</td>\n",
       "      <td>False</td>\n",
       "      <td>False</td>\n",
       "      <td>False</td>\n",
       "      <td>False</td>\n",
       "      <td>True</td>\n",
       "    </tr>\n",
       "    <tr>\n",
       "      <th>...</th>\n",
       "      <td>...</td>\n",
       "      <td>...</td>\n",
       "      <td>...</td>\n",
       "      <td>...</td>\n",
       "      <td>...</td>\n",
       "      <td>...</td>\n",
       "      <td>...</td>\n",
       "      <td>...</td>\n",
       "      <td>...</td>\n",
       "      <td>...</td>\n",
       "      <td>...</td>\n",
       "      <td>...</td>\n",
       "      <td>...</td>\n",
       "      <td>...</td>\n",
       "      <td>...</td>\n",
       "      <td>...</td>\n",
       "      <td>...</td>\n",
       "      <td>...</td>\n",
       "      <td>...</td>\n",
       "      <td>...</td>\n",
       "      <td>...</td>\n",
       "    </tr>\n",
       "    <tr>\n",
       "      <th>214064</th>\n",
       "      <td>0</td>\n",
       "      <td>202500.0</td>\n",
       "      <td>848745.0</td>\n",
       "      <td>43465.5</td>\n",
       "      <td>675000.0</td>\n",
       "      <td>-17966</td>\n",
       "      <td>-3149</td>\n",
       "      <td>-3684</td>\n",
       "      <td>-1510</td>\n",
       "      <td>4.0</td>\n",
       "      <td>...</td>\n",
       "      <td>False</td>\n",
       "      <td>False</td>\n",
       "      <td>False</td>\n",
       "      <td>False</td>\n",
       "      <td>False</td>\n",
       "      <td>False</td>\n",
       "      <td>False</td>\n",
       "      <td>False</td>\n",
       "      <td>False</td>\n",
       "      <td>True</td>\n",
       "    </tr>\n",
       "    <tr>\n",
       "      <th>214066</th>\n",
       "      <td>0</td>\n",
       "      <td>135000.0</td>\n",
       "      <td>945000.0</td>\n",
       "      <td>27630.0</td>\n",
       "      <td>945000.0</td>\n",
       "      <td>-19861</td>\n",
       "      <td>-1983</td>\n",
       "      <td>-5379</td>\n",
       "      <td>-661</td>\n",
       "      <td>8.0</td>\n",
       "      <td>...</td>\n",
       "      <td>False</td>\n",
       "      <td>False</td>\n",
       "      <td>False</td>\n",
       "      <td>False</td>\n",
       "      <td>False</td>\n",
       "      <td>False</td>\n",
       "      <td>False</td>\n",
       "      <td>False</td>\n",
       "      <td>False</td>\n",
       "      <td>True</td>\n",
       "    </tr>\n",
       "    <tr>\n",
       "      <th>214070</th>\n",
       "      <td>0</td>\n",
       "      <td>135000.0</td>\n",
       "      <td>986553.0</td>\n",
       "      <td>28975.5</td>\n",
       "      <td>823500.0</td>\n",
       "      <td>-20873</td>\n",
       "      <td>365243</td>\n",
       "      <td>-8850</td>\n",
       "      <td>-4121</td>\n",
       "      <td>9.0</td>\n",
       "      <td>...</td>\n",
       "      <td>False</td>\n",
       "      <td>False</td>\n",
       "      <td>False</td>\n",
       "      <td>False</td>\n",
       "      <td>False</td>\n",
       "      <td>True</td>\n",
       "      <td>False</td>\n",
       "      <td>False</td>\n",
       "      <td>False</td>\n",
       "      <td>True</td>\n",
       "    </tr>\n",
       "    <tr>\n",
       "      <th>214073</th>\n",
       "      <td>1</td>\n",
       "      <td>189000.0</td>\n",
       "      <td>1144737.0</td>\n",
       "      <td>45526.5</td>\n",
       "      <td>1053000.0</td>\n",
       "      <td>-14403</td>\n",
       "      <td>-4721</td>\n",
       "      <td>-2988</td>\n",
       "      <td>-4743</td>\n",
       "      <td>30.0</td>\n",
       "      <td>...</td>\n",
       "      <td>False</td>\n",
       "      <td>False</td>\n",
       "      <td>False</td>\n",
       "      <td>False</td>\n",
       "      <td>False</td>\n",
       "      <td>False</td>\n",
       "      <td>False</td>\n",
       "      <td>False</td>\n",
       "      <td>False</td>\n",
       "      <td>True</td>\n",
       "    </tr>\n",
       "    <tr>\n",
       "      <th>214078</th>\n",
       "      <td>1</td>\n",
       "      <td>112500.0</td>\n",
       "      <td>450000.0</td>\n",
       "      <td>12505.5</td>\n",
       "      <td>450000.0</td>\n",
       "      <td>-16340</td>\n",
       "      <td>-134</td>\n",
       "      <td>-5838</td>\n",
       "      <td>-4313</td>\n",
       "      <td>8.0</td>\n",
       "      <td>...</td>\n",
       "      <td>False</td>\n",
       "      <td>False</td>\n",
       "      <td>False</td>\n",
       "      <td>False</td>\n",
       "      <td>False</td>\n",
       "      <td>False</td>\n",
       "      <td>False</td>\n",
       "      <td>False</td>\n",
       "      <td>True</td>\n",
       "      <td>False</td>\n",
       "    </tr>\n",
       "  </tbody>\n",
       "</table>\n",
       "<p>63545 rows × 143 columns</p>\n",
       "</div>"
      ],
      "text/plain": [
       "        CNT_CHILDREN  AMT_INCOME_TOTAL  AMT_CREDIT  AMT_ANNUITY  \\\n",
       "2                  0           67500.0    135000.0       6750.0   \n",
       "6                  1          171000.0   1560726.0      41301.0   \n",
       "7                  0          360000.0   1530000.0      42075.0   \n",
       "13                 1          225000.0    918468.0      28966.5   \n",
       "15                 0          157500.0    299772.0      20160.0   \n",
       "...              ...               ...         ...          ...   \n",
       "214064             0          202500.0    848745.0      43465.5   \n",
       "214066             0          135000.0    945000.0      27630.0   \n",
       "214070             0          135000.0    986553.0      28975.5   \n",
       "214073             1          189000.0   1144737.0      45526.5   \n",
       "214078             1          112500.0    450000.0      12505.5   \n",
       "\n",
       "        AMT_GOODS_PRICE  DAYS_BIRTH  DAYS_EMPLOYED  DAYS_REGISTRATION  \\\n",
       "2              135000.0      -19046           -225              -4260   \n",
       "6             1395000.0      -13778          -3130              -1213   \n",
       "7             1530000.0      -18850           -449              -4597   \n",
       "13             697500.0      -14086          -3028               -643   \n",
       "15             247500.0       -8728          -1157              -3494   \n",
       "...                 ...         ...            ...                ...   \n",
       "214064         675000.0      -17966          -3149              -3684   \n",
       "214066         945000.0      -19861          -1983              -5379   \n",
       "214070         823500.0      -20873         365243              -8850   \n",
       "214073        1053000.0      -14403          -4721              -2988   \n",
       "214078         450000.0      -16340           -134              -5838   \n",
       "\n",
       "        DAYS_ID_PUBLISH  OWN_CAR_AGE  ...  \\\n",
       "2                 -2531         26.0  ...   \n",
       "6                  -619         17.0  ...   \n",
       "7                 -2379          8.0  ...   \n",
       "13                -4911         23.0  ...   \n",
       "15                -1368         17.0  ...   \n",
       "...                 ...          ...  ...   \n",
       "214064            -1510          4.0  ...   \n",
       "214066             -661          8.0  ...   \n",
       "214070            -4121          9.0  ...   \n",
       "214073            -4743         30.0  ...   \n",
       "214078            -4313          8.0  ...   \n",
       "\n",
       "        ORGANIZATION_TYPE_Transport: type 1  \\\n",
       "2                                     False   \n",
       "6                                     False   \n",
       "7                                     False   \n",
       "13                                    False   \n",
       "15                                    False   \n",
       "...                                     ...   \n",
       "214064                                False   \n",
       "214066                                False   \n",
       "214070                                False   \n",
       "214073                                False   \n",
       "214078                                False   \n",
       "\n",
       "        ORGANIZATION_TYPE_Transport: type 2  \\\n",
       "2                                     False   \n",
       "6                                     False   \n",
       "7                                     False   \n",
       "13                                    False   \n",
       "15                                    False   \n",
       "...                                     ...   \n",
       "214064                                False   \n",
       "214066                                False   \n",
       "214070                                False   \n",
       "214073                                False   \n",
       "214078                                False   \n",
       "\n",
       "        ORGANIZATION_TYPE_Transport: type 3  \\\n",
       "2                                     False   \n",
       "6                                     False   \n",
       "7                                     False   \n",
       "13                                    False   \n",
       "15                                    False   \n",
       "...                                     ...   \n",
       "214064                                False   \n",
       "214066                                False   \n",
       "214070                                False   \n",
       "214073                                False   \n",
       "214078                                False   \n",
       "\n",
       "        ORGANIZATION_TYPE_Transport: type 4  ORGANIZATION_TYPE_University  \\\n",
       "2                                     False                         False   \n",
       "6                                     False                         False   \n",
       "7                                     False                         False   \n",
       "13                                    False                         False   \n",
       "15                                    False                         False   \n",
       "...                                     ...                           ...   \n",
       "214064                                False                         False   \n",
       "214066                                False                         False   \n",
       "214070                                False                         False   \n",
       "214073                                False                         False   \n",
       "214078                                False                         False   \n",
       "\n",
       "        ORGANIZATION_TYPE_XNA  INCOMEBIN_Lower income  \\\n",
       "2                       False                   False   \n",
       "6                       False                   False   \n",
       "7                       False                   False   \n",
       "13                      False                   False   \n",
       "15                      False                   False   \n",
       "...                       ...                     ...   \n",
       "214064                  False                   False   \n",
       "214066                  False                   False   \n",
       "214070                   True                   False   \n",
       "214073                  False                   False   \n",
       "214078                  False                   False   \n",
       "\n",
       "        INCOMEBIN_Median income  INCOMEBIN_Upper income  INCOMEBIN_Wealthy  \n",
       "2                         False                    True              False  \n",
       "6                         False                   False               True  \n",
       "7                         False                   False               True  \n",
       "13                        False                   False               True  \n",
       "15                        False                   False               True  \n",
       "...                         ...                     ...                ...  \n",
       "214064                    False                   False               True  \n",
       "214066                    False                   False               True  \n",
       "214070                    False                   False               True  \n",
       "214073                    False                   False               True  \n",
       "214078                    False                    True              False  \n",
       "\n",
       "[63545 rows x 143 columns]"
      ]
     },
     "execution_count": 212,
     "metadata": {},
     "output_type": "execute_result"
    }
   ],
   "source": [
    "X = pd.get_dummies(X)\n",
    "X"
   ]
  },
  {
   "cell_type": "code",
   "execution_count": 213,
   "id": "6fe7d861",
   "metadata": {
    "scrolled": true
   },
   "outputs": [],
   "source": [
    "X= X.drop([\"TARGET\"],axis=1)\n",
    "y = data[\"TARGET\"]"
   ]
  },
  {
   "cell_type": "markdown",
   "id": "1a9c727a",
   "metadata": {},
   "source": [
    "# Regression Analysis"
   ]
  },
  {
   "cell_type": "code",
   "execution_count": 214,
   "id": "e81cd135",
   "metadata": {},
   "outputs": [],
   "source": [
    "lr = LogisticRegression()"
   ]
  },
  {
   "cell_type": "code",
   "execution_count": 215,
   "id": "c851a083",
   "metadata": {
    "scrolled": true
   },
   "outputs": [
    {
     "data": {
      "text/html": [
       "<style>#sk-container-id-1 {color: black;}#sk-container-id-1 pre{padding: 0;}#sk-container-id-1 div.sk-toggleable {background-color: white;}#sk-container-id-1 label.sk-toggleable__label {cursor: pointer;display: block;width: 100%;margin-bottom: 0;padding: 0.3em;box-sizing: border-box;text-align: center;}#sk-container-id-1 label.sk-toggleable__label-arrow:before {content: \"▸\";float: left;margin-right: 0.25em;color: #696969;}#sk-container-id-1 label.sk-toggleable__label-arrow:hover:before {color: black;}#sk-container-id-1 div.sk-estimator:hover label.sk-toggleable__label-arrow:before {color: black;}#sk-container-id-1 div.sk-toggleable__content {max-height: 0;max-width: 0;overflow: hidden;text-align: left;background-color: #f0f8ff;}#sk-container-id-1 div.sk-toggleable__content pre {margin: 0.2em;color: black;border-radius: 0.25em;background-color: #f0f8ff;}#sk-container-id-1 input.sk-toggleable__control:checked~div.sk-toggleable__content {max-height: 200px;max-width: 100%;overflow: auto;}#sk-container-id-1 input.sk-toggleable__control:checked~label.sk-toggleable__label-arrow:before {content: \"▾\";}#sk-container-id-1 div.sk-estimator input.sk-toggleable__control:checked~label.sk-toggleable__label {background-color: #d4ebff;}#sk-container-id-1 div.sk-label input.sk-toggleable__control:checked~label.sk-toggleable__label {background-color: #d4ebff;}#sk-container-id-1 input.sk-hidden--visually {border: 0;clip: rect(1px 1px 1px 1px);clip: rect(1px, 1px, 1px, 1px);height: 1px;margin: -1px;overflow: hidden;padding: 0;position: absolute;width: 1px;}#sk-container-id-1 div.sk-estimator {font-family: monospace;background-color: #f0f8ff;border: 1px dotted black;border-radius: 0.25em;box-sizing: border-box;margin-bottom: 0.5em;}#sk-container-id-1 div.sk-estimator:hover {background-color: #d4ebff;}#sk-container-id-1 div.sk-parallel-item::after {content: \"\";width: 100%;border-bottom: 1px solid gray;flex-grow: 1;}#sk-container-id-1 div.sk-label:hover label.sk-toggleable__label {background-color: #d4ebff;}#sk-container-id-1 div.sk-serial::before {content: \"\";position: absolute;border-left: 1px solid gray;box-sizing: border-box;top: 0;bottom: 0;left: 50%;z-index: 0;}#sk-container-id-1 div.sk-serial {display: flex;flex-direction: column;align-items: center;background-color: white;padding-right: 0.2em;padding-left: 0.2em;position: relative;}#sk-container-id-1 div.sk-item {position: relative;z-index: 1;}#sk-container-id-1 div.sk-parallel {display: flex;align-items: stretch;justify-content: center;background-color: white;position: relative;}#sk-container-id-1 div.sk-item::before, #sk-container-id-1 div.sk-parallel-item::before {content: \"\";position: absolute;border-left: 1px solid gray;box-sizing: border-box;top: 0;bottom: 0;left: 50%;z-index: -1;}#sk-container-id-1 div.sk-parallel-item {display: flex;flex-direction: column;z-index: 1;position: relative;background-color: white;}#sk-container-id-1 div.sk-parallel-item:first-child::after {align-self: flex-end;width: 50%;}#sk-container-id-1 div.sk-parallel-item:last-child::after {align-self: flex-start;width: 50%;}#sk-container-id-1 div.sk-parallel-item:only-child::after {width: 0;}#sk-container-id-1 div.sk-dashed-wrapped {border: 1px dashed gray;margin: 0 0.4em 0.5em 0.4em;box-sizing: border-box;padding-bottom: 0.4em;background-color: white;}#sk-container-id-1 div.sk-label label {font-family: monospace;font-weight: bold;display: inline-block;line-height: 1.2em;}#sk-container-id-1 div.sk-label-container {text-align: center;}#sk-container-id-1 div.sk-container {/* jupyter's `normalize.less` sets `[hidden] { display: none; }` but bootstrap.min.css set `[hidden] { display: none !important; }` so we also need the `!important` here to be able to override the default hidden behavior on the sphinx rendered scikit-learn.org. See: https://github.com/scikit-learn/scikit-learn/issues/21755 */display: inline-block !important;position: relative;}#sk-container-id-1 div.sk-text-repr-fallback {display: none;}</style><div id=\"sk-container-id-1\" class=\"sk-top-container\"><div class=\"sk-text-repr-fallback\"><pre>LogisticRegression()</pre><b>In a Jupyter environment, please rerun this cell to show the HTML representation or trust the notebook. <br />On GitHub, the HTML representation is unable to render, please try loading this page with nbviewer.org.</b></div><div class=\"sk-container\" hidden><div class=\"sk-item\"><div class=\"sk-estimator sk-toggleable\"><input class=\"sk-toggleable__control sk-hidden--visually\" id=\"sk-estimator-id-1\" type=\"checkbox\" checked><label for=\"sk-estimator-id-1\" class=\"sk-toggleable__label sk-toggleable__label-arrow\">LogisticRegression</label><div class=\"sk-toggleable__content\"><pre>LogisticRegression()</pre></div></div></div></div></div>"
      ],
      "text/plain": [
       "LogisticRegression()"
      ]
     },
     "execution_count": 215,
     "metadata": {},
     "output_type": "execute_result"
    }
   ],
   "source": [
    "lr.fit(X,y)"
   ]
  },
  {
   "cell_type": "code",
   "execution_count": 216,
   "id": "e2b17250",
   "metadata": {},
   "outputs": [
    {
     "data": {
      "text/plain": [
       "0.9257848768589189"
      ]
     },
     "execution_count": 216,
     "metadata": {},
     "output_type": "execute_result"
    }
   ],
   "source": [
    "lr.score(X,y)"
   ]
  },
  {
   "cell_type": "code",
   "execution_count": 217,
   "id": "b458e5b8",
   "metadata": {},
   "outputs": [],
   "source": [
    "pred = lr.predict(X)"
   ]
  },
  {
   "cell_type": "code",
   "execution_count": 218,
   "id": "34e788c3",
   "metadata": {},
   "outputs": [
    {
     "name": "stdout",
     "output_type": "stream",
     "text": [
      "            pred:yes  pred:no\n",
      "actual:yes     58829        0\n",
      "actual:no       4716        0\n"
     ]
    }
   ],
   "source": [
    "cmtx = pd.DataFrame(\n",
    "    metrics.confusion_matrix(y,pred),  \n",
    "    index=['actual:yes', 'actual:no'], \n",
    "    columns=['pred:yes', 'pred:no']\n",
    ")\n",
    "print(cmtx)"
   ]
  },
  {
   "cell_type": "code",
   "execution_count": 219,
   "id": "09f5dc33",
   "metadata": {
    "scrolled": true
   },
   "outputs": [
    {
     "data": {
      "text/plain": [
       "0.6058541191281769"
      ]
     },
     "execution_count": 219,
     "metadata": {},
     "output_type": "execute_result"
    }
   ],
   "source": [
    "lr=LogisticRegression(class_weight='balanced',solver='lbfgs')\n",
    "lr.fit(X,y)\n",
    "lr.score(X,y)"
   ]
  },
  {
   "cell_type": "code",
   "execution_count": 220,
   "id": "1d76f82c",
   "metadata": {},
   "outputs": [],
   "source": [
    "pred = lr.predict(X)"
   ]
  },
  {
   "cell_type": "code",
   "execution_count": 221,
   "id": "5bc4de0e",
   "metadata": {},
   "outputs": [
    {
     "name": "stdout",
     "output_type": "stream",
     "text": [
      "            pred:yes  pred:no\n",
      "actual:yes     35944    22885\n",
      "actual:no       2161     2555\n"
     ]
    }
   ],
   "source": [
    "cmtx = pd.DataFrame(\n",
    "    metrics.confusion_matrix(y,pred),  \n",
    "    index=['actual:yes', 'actual:no'], \n",
    "    columns=['pred:yes', 'pred:no']\n",
    ")\n",
    "print(cmtx)"
   ]
  }
 ],
 "metadata": {
  "kernelspec": {
   "display_name": "Python 3 (ipykernel)",
   "language": "python",
   "name": "python3"
  },
  "language_info": {
   "codemirror_mode": {
    "name": "ipython",
    "version": 3
   },
   "file_extension": ".py",
   "mimetype": "text/x-python",
   "name": "python",
   "nbconvert_exporter": "python",
   "pygments_lexer": "ipython3",
   "version": "3.11.5"
  }
 },
 "nbformat": 4,
 "nbformat_minor": 5
}
